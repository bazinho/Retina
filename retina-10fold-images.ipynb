{
 "cells": [
  {
   "cell_type": "code",
   "execution_count": 36,
   "metadata": {},
   "outputs": [],
   "source": [
    "import os\n",
    "import os.path\n",
    "import shutil\n",
    "import glob\n",
    "import time\n",
    "from sklearn.preprocessing import LabelEncoder\n",
    "from sklearn.model_selection import StratifiedKFold                                                                                                                       \n",
    "from sklearn.metrics import confusion_matrix,accuracy_score\n",
    "\n",
    "import matplotlib.pyplot as plt\n",
    "import matplotlib.cm as colormap\n",
    "plt.rcParams['image.cmap'] = 'Pastel1'\n",
    "\n",
    "import numpy as np\n",
    "np.random.seed(1)\n",
    "\n",
    "from keras.preprocessing.image import img_to_array\n",
    "from keras.utils import np_utils\n",
    "from keras.preprocessing import image\n",
    "from keras.applications.resnet50 import ResNet50\n",
    "from keras.applications.imagenet_utils import preprocess_input\n",
    "from keras.callbacks import EarlyStopping, ModelCheckpoint\n",
    "from keras.models import Sequential,Model\n",
    "from keras.layers import Input,Flatten,Dense,Dropout,GlobalAveragePooling2D,Conv2D,MaxPooling2D"
   ]
  },
  {
   "cell_type": "code",
   "execution_count": 13,
   "metadata": {
    "collapsed": true
   },
   "outputs": [],
   "source": [
    "imagedir = \"retina-dataset\""
   ]
  },
  {
   "cell_type": "code",
   "execution_count": 14,
   "metadata": {},
   "outputs": [
    {
     "name": "stdout",
     "output_type": "stream",
     "text": [
      "Label: 0\tFamily:         Exudate\tNumber of images: 67600\n",
      "Label: 1\tFamily:     Non_Exudate\tNumber of images: 70043\n",
      "Processing images ...\n",
      "Images processed: 137643\n"
     ]
    }
   ],
   "source": [
    "cur_dir = os.getcwd()\n",
    "os.chdir(imagedir)  # the parent folder with sub-folders\n",
    "\n",
    "# Get number of samples per family\n",
    "list_fams = sorted(os.listdir(os.getcwd()), key=str.lower)  # vector of strings with family names\n",
    "no_imgs = []  # No. of samples per family\n",
    "for i in range(len(list_fams)):\n",
    "    os.chdir(list_fams[i])\n",
    "    len1 = len(glob.glob('*.png'))  # assuming the images are stored as 'png'\n",
    "    no_imgs.append(len1)\n",
    "    os.chdir('..')\n",
    "num_samples = np.sum(no_imgs)  # total number of all samples\n",
    "\n",
    "# Compute the labels\n",
    "y = np.zeros(num_samples)\n",
    "pos = 0\n",
    "label = 0\n",
    "for i in no_imgs:\n",
    "    print (\"Label:%2d\\tFamily: %15s\\tNumber of images: %d\" % (label, list_fams[label], i))\n",
    "    for j in range(i):\n",
    "        y[pos] = label\n",
    "        pos += 1\n",
    "    label += 1\n",
    "num_classes = label\n",
    "\n",
    "# Compute the features\n",
    "width, height,channels = (224,224,3)\n",
    "#X = np.zeros((num_samples, width, height, channels))\n",
    "cnt = 0\n",
    "list_paths = [] # List of image paths\n",
    "print(\"Processing images ...\")\n",
    "for i in range(len(list_fams)):\n",
    "    for img_file in glob.glob(list_fams[i]+'/*.png'):\n",
    "        #print(\"[%d] Processing image: %s\" % (cnt, img_file))\n",
    "        list_paths.append(os.path.join(os.getcwd(),img_file))\n",
    "        #img = image.load_img(img_file, target_size=(224, 224))\n",
    "        #x = image.img_to_array(img)\n",
    "        #x = np.expand_dims(x, axis=0)\n",
    "        #x = preprocess_input(x)\n",
    "        #X[cnt] = x\n",
    "        cnt += 1\n",
    "print(\"Images processed: %d\" %(cnt))\n",
    "\n",
    "os.chdir(cur_dir)"
   ]
  },
  {
   "cell_type": "code",
   "execution_count": 21,
   "metadata": {
    "collapsed": true
   },
   "outputs": [],
   "source": [
    "# Create stratified k-fold subsets                                                                                                                                        \n",
    "kfold = 10  # no. of folds                                                                 \n",
    "skf = StratifiedKFold(kfold, shuffle=True,random_state=1)\n",
    "skfind = [None] * kfold  # skfind[i][0] -> train indices, skfind[i][1] -> test indices\n",
    "cnt = 0                                              \n",
    "#for index in skf.split(X, y):    \n",
    "for index in skf.split(resnet50features, y):         \n",
    "    skfind[cnt] = index                                                 \n",
    "    cnt += 1 "
   ]
  },
  {
   "cell_type": "code",
   "execution_count": 22,
   "metadata": {},
   "outputs": [
    {
     "name": "stdout",
     "output_type": "stream",
     "text": [
      "[    12     28     30 ..., 137586 137597 137613]\n",
      "[    10     14     21 ..., 137633 137639 137641]\n",
      "[    22     23     40 ..., 137616 137624 137629]\n",
      "[     2      3     11 ..., 137609 137615 137622]\n",
      "[     8     13     19 ..., 137600 137603 137610]\n",
      "[    26     35     36 ..., 137606 137608 137621]\n",
      "[     0      4      6 ..., 137623 137625 137626]\n",
      "[     1      5     49 ..., 137637 137638 137642]\n",
      "[    39     48     59 ..., 137619 137627 137635]\n",
      "[     9     15     18 ..., 137634 137636 137640]\n"
     ]
    }
   ],
   "source": [
    "for i in range(kfold):\n",
    "    print(skfind[i][1])"
   ]
  },
  {
   "cell_type": "code",
   "execution_count": 34,
   "metadata": {},
   "outputs": [
    {
     "name": "stdout",
     "output_type": "stream",
     "text": [
      "['/home/edmar/GIT/Retina/retina-dataset/Exudate/Exudate__3_10_57.png'\n",
      " '/home/edmar/GIT/Retina/retina-dataset/Exudate/Exudate__4_15_176.png'\n",
      " '/home/edmar/GIT/Retina/retina-dataset/Exudate/Exudate__15_15_26.png' ...,\n",
      " '/home/edmar/GIT/Retina/retina-dataset/Non_Exudate/Non_Exudate_5_5_561.png'\n",
      " '/home/edmar/GIT/Retina/retina-dataset/Non_Exudate/Non_Exudate_7_8_235.png'\n",
      " '/home/edmar/GIT/Retina/retina-dataset/Non_Exudate/Non_Exudate_0_8_573.png']\n",
      "['/home/edmar/GIT/Retina/retina-dataset/Exudate/Exudate__24_12_156.png'\n",
      " '/home/edmar/GIT/Retina/retina-dataset/Exudate/Exudate__4_17_2720.png'\n",
      " '/home/edmar/GIT/Retina/retina-dataset/Exudate/Exudate__5_13_379.png' ...,\n",
      " '/home/edmar/GIT/Retina/retina-dataset/Non_Exudate/Non_Exudate_4_1_307.png'\n",
      " '/home/edmar/GIT/Retina/retina-dataset/Non_Exudate/Non_Exudate_4_3_482.png'\n",
      " '/home/edmar/GIT/Retina/retina-dataset/Non_Exudate/Non_Exudate_4_3_574.png']\n",
      "['/home/edmar/GIT/Retina/retina-dataset/Exudate/Exudate__19_9_51.png'\n",
      " '/home/edmar/GIT/Retina/retina-dataset/Exudate/Exudate__4_6_112.png'\n",
      " '/home/edmar/GIT/Retina/retina-dataset/Exudate/Exudate__7_14_999.png' ...,\n",
      " '/home/edmar/GIT/Retina/retina-dataset/Non_Exudate/Non_Exudate_7_6_251.png'\n",
      " '/home/edmar/GIT/Retina/retina-dataset/Non_Exudate/Non_Exudate_0_1_156.png'\n",
      " '/home/edmar/GIT/Retina/retina-dataset/Non_Exudate/Non_Exudate_2_0_415.png']\n",
      "['/home/edmar/GIT/Retina/retina-dataset/Exudate/Exudate__4_10_26.png'\n",
      " '/home/edmar/GIT/Retina/retina-dataset/Exudate/Exudate__5_11_903.png'\n",
      " '/home/edmar/GIT/Retina/retina-dataset/Exudate/Exudate__25_40_22.png' ...,\n",
      " '/home/edmar/GIT/Retina/retina-dataset/Non_Exudate/Non_Exudate_1_4_659.png'\n",
      " '/home/edmar/GIT/Retina/retina-dataset/Non_Exudate/Non_Exudate_6_2_735.png'\n",
      " '/home/edmar/GIT/Retina/retina-dataset/Non_Exudate/Non_Exudate_3_2_667.png']\n",
      "['/home/edmar/GIT/Retina/retina-dataset/Exudate/Exudate__5_22_899.png'\n",
      " '/home/edmar/GIT/Retina/retina-dataset/Exudate/Exudate__4_13_432.png'\n",
      " '/home/edmar/GIT/Retina/retina-dataset/Exudate/Exudate__22_14_266.png'\n",
      " ...,\n",
      " '/home/edmar/GIT/Retina/retina-dataset/Non_Exudate/Non_Exudate_1_5_276.png'\n",
      " '/home/edmar/GIT/Retina/retina-dataset/Non_Exudate/Non_Exudate_6_1_407.png'\n",
      " '/home/edmar/GIT/Retina/retina-dataset/Non_Exudate/Non_Exudate_4_3_364.png']\n",
      "['/home/edmar/GIT/Retina/retina-dataset/Exudate/Exudate__25_22_13.png'\n",
      " '/home/edmar/GIT/Retina/retina-dataset/Exudate/Exudate__1_21_147.png'\n",
      " '/home/edmar/GIT/Retina/retina-dataset/Exudate/Exudate__7_14_1824.png'\n",
      " ...,\n",
      " '/home/edmar/GIT/Retina/retina-dataset/Non_Exudate/Non_Exudate_3_0_435.png'\n",
      " '/home/edmar/GIT/Retina/retina-dataset/Non_Exudate/Non_Exudate_1_3_267.png'\n",
      " '/home/edmar/GIT/Retina/retina-dataset/Non_Exudate/Non_Exudate_8_7_535.png']\n",
      "['/home/edmar/GIT/Retina/retina-dataset/Exudate/Exudate__12_1_280.png'\n",
      " '/home/edmar/GIT/Retina/retina-dataset/Exudate/Exudate__5_16_776.png'\n",
      " '/home/edmar/GIT/Retina/retina-dataset/Exudate/Exudate__25_26_15.png' ...,\n",
      " '/home/edmar/GIT/Retina/retina-dataset/Non_Exudate/Non_Exudate_0_1_8.png'\n",
      " '/home/edmar/GIT/Retina/retina-dataset/Non_Exudate/Non_Exudate_1_5_657.png'\n",
      " '/home/edmar/GIT/Retina/retina-dataset/Non_Exudate/Non_Exudate_4_8_244.png']\n",
      "['/home/edmar/GIT/Retina/retina-dataset/Exudate/Exudate__1_29_10.png'\n",
      " '/home/edmar/GIT/Retina/retina-dataset/Exudate/Exudate__5_19_422.png'\n",
      " '/home/edmar/GIT/Retina/retina-dataset/Exudate/Exudate__16_17_42.png' ...,\n",
      " '/home/edmar/GIT/Retina/retina-dataset/Non_Exudate/Non_Exudate_6_3_136.png'\n",
      " '/home/edmar/GIT/Retina/retina-dataset/Non_Exudate/Non_Exudate_1_2_395.png'\n",
      " '/home/edmar/GIT/Retina/retina-dataset/Non_Exudate/Non_Exudate_6_3_291.png']\n",
      "['/home/edmar/GIT/Retina/retina-dataset/Exudate/Exudate__33_1_58.png'\n",
      " '/home/edmar/GIT/Retina/retina-dataset/Exudate/Exudate__5_19_1549.png'\n",
      " '/home/edmar/GIT/Retina/retina-dataset/Exudate/Exudate__33_1_62.png' ...,\n",
      " '/home/edmar/GIT/Retina/retina-dataset/Non_Exudate/Non_Exudate_2_3_45.png'\n",
      " '/home/edmar/GIT/Retina/retina-dataset/Non_Exudate/Non_Exudate_4_8_187.png'\n",
      " '/home/edmar/GIT/Retina/retina-dataset/Non_Exudate/Non_Exudate_4_0_167.png']\n",
      "['/home/edmar/GIT/Retina/retina-dataset/Exudate/Exudate__21_23_12.png'\n",
      " '/home/edmar/GIT/Retina/retina-dataset/Exudate/Exudate__8_5_124.png'\n",
      " '/home/edmar/GIT/Retina/retina-dataset/Exudate/Exudate__4_12_70.png' ...,\n",
      " '/home/edmar/GIT/Retina/retina-dataset/Non_Exudate/Non_Exudate_5_2_572.png'\n",
      " '/home/edmar/GIT/Retina/retina-dataset/Non_Exudate/Non_Exudate_4_5_436.png'\n",
      " '/home/edmar/GIT/Retina/retina-dataset/Non_Exudate/Non_Exudate_0_8_293.png']\n"
     ]
    }
   ],
   "source": [
    "l = np.array(list_paths)\n",
    "for i in range(kfold):\n",
    "    print(l[skfind[i][1]])"
   ]
  },
  {
   "cell_type": "code",
   "execution_count": 37,
   "metadata": {},
   "outputs": [],
   "source": [
    "foldsdir = 'Folds' \n",
    "if not os.path.exists(foldsdir):\n",
    "    os.makedirs(foldsdir)\n",
    "\n",
    "l = np.array(list_paths)\n",
    "for i in range(kfold):\n",
    "    fdir = os.path.join(foldsdir,'Fold'+str(i))\n",
    "    if not os.path.exists(fdir):\n",
    "        os.makedirs(fdir)\n",
    "    for fname in l[skfind[i][1]]:\n",
    "        shutil.copy(fname,fdir)"
   ]
  }
 ],
 "metadata": {
  "kernelspec": {
   "display_name": "Python 2",
   "language": "python",
   "name": "python2"
  },
  "language_info": {
   "codemirror_mode": {
    "name": "ipython",
    "version": 2
   },
   "file_extension": ".py",
   "mimetype": "text/x-python",
   "name": "python",
   "nbconvert_exporter": "python",
   "pygments_lexer": "ipython2",
   "version": "2.7.12"
  }
 },
 "nbformat": 4,
 "nbformat_minor": 2
}
